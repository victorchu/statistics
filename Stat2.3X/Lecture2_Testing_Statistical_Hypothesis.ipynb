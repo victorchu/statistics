{
 "cells": [
  {
   "cell_type": "markdown",
   "metadata": {},
   "source": [
    "<span style=\"font-size: xx-large; font-weight: bold;\">Lecture 2 - Testing Statistical Hypothesises</span>\n",
    "\n",
    "Ref: https://courses.edx.org/courses/BerkeleyX/Stat_2.3x/2T2014/course/#i4x://BerkeleyX/Stat_2.3x"
   ]
  },
  {
   "cell_type": "code",
   "execution_count": 1,
   "metadata": {
    "scrolled": true
   },
   "outputs": [],
   "source": [
    "import pandas as pd\n",
    "import numpy as np\n",
    "import matplotlib.pyplot as plt\n",
    "\n",
    "from scipy.stats import binom\n",
    "from scipy.stats import norm\n",
    "\n",
    "#%pylab inline"
   ]
  },
  {
   "cell_type": "markdown",
   "metadata": {},
   "source": [
    "# Testing hypotheses: terminology"
   ]
  },
  {
   "cell_type": "markdown",
   "metadata": {},
   "source": [
    "## Biased Coin?\n",
    "Suppose you have tossed a coin 20 times and seen 15 heads.\n",
    "Is this coin fair (H0), or is it biased towards heads (HA)?\n",
    "\n",
    "**QUESTIONS**: \n",
    "- Assume that the coin is fair (the null hypothesis H0), what is the the probability (P-value) for getting 15 heads or more?\n",
    "- Is the P-value *statistically significant*?"
   ]
  },
  {
   "cell_type": "code",
   "execution_count": 2,
   "metadata": {
    "scrolled": true
   },
   "outputs": [
    {
     "name": "stdout",
     "output_type": "stream",
     "text": [
      "# Probabilities on heads >= k\n",
      "- P(k >  9) = 58.810%\n",
      "- P(k > 10) = 41.190%\n",
      "- P(k > 11) = 25.172%\n",
      "- P(k > 14) = 2.069%\n",
      "- P(k > 15) = 0.591%\n",
      "\n",
      "The P-value is 2.069%\n",
      "This is STATISTICAL SIGNIFICANT! Thus, the coin tends to be biased.\n"
     ]
    }
   ],
   "source": [
    "from scipy.stats import binom\n",
    "n, p = 20, .5\n",
    "rv = binom(n, p)\n",
    "\n",
    "print(\"# Probabilities on heads >= k\")\n",
    "p_k = dict()\n",
    "for k in (9, 10, 11, 14, 15):\n",
    "    p_k[k] = 1.0 - rv.cdf(k)\n",
    "    print(\"- P(k > {:2d}) = {:.3f}%\".format(k, 100* p_k[k]))\n",
    "\n",
    "print(\"\\nThe P-value is {:.3f}%\".format(100 * p_k[14]))\n",
    "if (p_k[14] < 0.05):\n",
    "    print(\"This is STATISTICAL SIGNIFICANT! Thus, the coin tends to be biased.\")\n",
    "else:\n",
    "    print(\"This is NOT STATISTICAL SIGNIFICANT! H0 holds.\")"
   ]
  },
  {
   "cell_type": "code",
   "execution_count": null,
   "metadata": {},
   "outputs": [],
   "source": []
  },
  {
   "cell_type": "markdown",
   "metadata": {},
   "source": [
    "# Tests for a population proportion"
   ]
  },
  {
   "cell_type": "markdown",
   "metadata": {},
   "source": [
    "## Red Flowers\n",
    "In a species of plant, flower color is independent across plants. \n",
    "\n",
    "Genetic theory: each plant has a 25% chance of being red-flowering. \n",
    "\n",
    "Data: 400 plants of this species; 88 are red-flowering \n",
    "\n",
    "**QUESTION**: Is the theory good, or are there too few reds? "
   ]
  },
  {
   "cell_type": "markdown",
   "metadata": {},
   "source": [
    "**Exact Answer (Binomial)**"
   ]
  },
  {
   "cell_type": "code",
   "execution_count": 3,
   "metadata": {
    "scrolled": true
   },
   "outputs": [
    {
     "name": "stdout",
     "output_type": "stream",
     "text": [
      "P(k<=88) = 9.08%\n"
     ]
    }
   ],
   "source": [
    "from scipy.stats import binom\n",
    "n = 400\n",
    "p = 0.25\n",
    "k = 88\n",
    "rv = binom(n, p)\n",
    "print(\"P(k<=88) = {:.2f}%\".format(100*rv.cdf(88)))"
   ]
  },
  {
   "cell_type": "markdown",
   "metadata": {},
   "source": [
    "**Normal Approximation**"
   ]
  },
  {
   "cell_type": "code",
   "execution_count": 4,
   "metadata": {
    "scrolled": true
   },
   "outputs": [
    {
     "name": "stdout",
     "output_type": "stream",
     "text": [
      "mu = 100.0, sigma=8.660, z =-1.328\n",
      "P(z <= -1.328) = 9.21%\n"
     ]
    }
   ],
   "source": [
    "from scipy.stats import norm\n",
    "mu = 400 * p\n",
    "sigma = np.sqrt(400 * p * (1-p))\n",
    "z = (88.5 - mu) / sigma\n",
    "print(\"mu = {}, sigma={:.3f}, z ={:.3f}\".format(mu, sigma, z))\n",
    "print(\"P(z <= {:.3f}) = {:.2f}%\".format(z, 100*norm.cdf(z)))"
   ]
  },
  {
   "cell_type": "markdown",
   "metadata": {},
   "source": [
    "**Normal Cut-off Z values**"
   ]
  },
  {
   "cell_type": "code",
   "execution_count": 5,
   "metadata": {},
   "outputs": [
    {
     "name": "stdout",
     "output_type": "stream",
     "text": [
      "ppf(0.05)  = -1.645\n",
      "ppf(0.95)  =  1.645\n",
      "ppf(0.025) = -1.960\n",
      "ppf(0.975) =  1.960\n"
     ]
    }
   ],
   "source": [
    "print(\"ppf(0.05)  = {:6.3f}\".format(norm.ppf(0.05)))\n",
    "print(\"ppf(0.95)  = {:6.3f}\".format(norm.ppf(0.95)))\n",
    "print(\"ppf(0.025) = {:6.3f}\".format(norm.ppf(0.025)))\n",
    "print(\"ppf(0.975) = {:6.3f}\".format(norm.ppf(0.975)))"
   ]
  },
  {
   "cell_type": "markdown",
   "metadata": {},
   "source": [
    "## Swain vs. Alabama (1962)\n",
    "\n",
    "- 1962, Talladega County, Alabama, U.S.A.\n",
    "- Robert Swain, a black man, was convicted of the rape of a white woman and sentenced to death.\n",
    "- He appealed, all the way to the U.S. Supreme Court, largely on the grounds that every juror in living memory in the County had been white.\n",
    "- 1965, Swain vs. Alabama: U.S. Supreme Court rejected Swain’s appeal. \n",
    "\n",
    "  “The overall percentage disparity has been small, and reflects no studied attempt to include or exclude a specified number of Negroes.” \n",
    "\n",
    "\n",
    "- Ref: http://supreme.justia.com/cases/federal/us/380/202/case.html\n",
    "\n",
    "**The Numbers**\n",
    "- Only men aged over 21 were eligible to be jurors.\n",
    "- There were 16,000 such men, of whom 26% were black.\n",
    "- There were 100 men on Swain’s jury panel; 8 were black. \n",
    "\n",
    "- **H0** : The panel was like a SRS of size 100 drawn from 16,000 tickets, consisting of 26% 1 and 74% 0 "
   ]
  },
  {
   "cell_type": "markdown",
   "metadata": {},
   "source": [
    "**Normal Approximation**\n",
    "\n",
    "It turned out it is 4 SD below the expectation.\n",
    "This cannot be a simple random sample."
   ]
  },
  {
   "cell_type": "code",
   "execution_count": 6,
   "metadata": {},
   "outputs": [
    {
     "name": "stdout",
     "output_type": "stream",
     "text": [
      "mu = 26.0, sigma = 4.386\n",
      "z = -3.99 SD\n"
     ]
    }
   ],
   "source": [
    "n, p = 100, 0.26\n",
    "mu = n * p\n",
    "sigma = np.sqrt(n * p * (1 - p))\n",
    "z = (8.5 - mu) / sigma  # Note the use of 8.5 instead of 8.0\n",
    "print(\"mu = {}, sigma = {:.3f}\".format(mu, sigma))\n",
    "print(\"z = {:.2f} SD\".format(z))"
   ]
  },
  {
   "cell_type": "markdown",
   "metadata": {},
   "source": [
    "**Exact Hypergeometric Test**  (for those who are really picky)"
   ]
  },
  {
   "cell_type": "code",
   "execution_count": 7,
   "metadata": {},
   "outputs": [
    {
     "name": "stdout",
     "output_type": "stream",
     "text": [
      "P-value = 4.734795e-06\n"
     ]
    }
   ],
   "source": [
    "# Question: does the population size 16,000 matter?\n",
    "rv = binom(n, p)\n",
    "print(\"P-value = {:.6e}\".format(rv.cdf(8)))"
   ]
  },
  {
   "cell_type": "code",
   "execution_count": null,
   "metadata": {},
   "outputs": [],
   "source": []
  },
  {
   "cell_type": "markdown",
   "metadata": {},
   "source": [
    "# Scipy Stats Tools"
   ]
  },
  {
   "cell_type": "markdown",
   "metadata": {},
   "source": [
    "## scipy.stats.binom\n",
    "\n",
    "https://docs.scipy.org/doc/scipy/reference/generated/scipy.stats.binom.html"
   ]
  },
  {
   "cell_type": "code",
   "execution_count": 8,
   "metadata": {},
   "outputs": [
    {
     "data": {
      "image/png": "[encoded data removed]",
      "text/plain": [
       "<Figure size 432x288 with 1 Axes>"
      ]
     },
     "metadata": {
      "needs_background": "light"
     },
     "output_type": "display_data"
    },
    {
     "data": {
      "image/png": "[encoded data removed]",
      "text/plain": [
       "<Figure size 432x288 with 1 Axes>"
      ]
     },
     "metadata": {
      "needs_background": "light"
     },
     "output_type": "display_data"
    }
   ],
   "source": [
    "n, p = 20, .5\n",
    "rv = binom(n, p)\n",
    "\n",
    "# The probability mass function (PMF)\n",
    "fig, ax = plt.subplots()\n",
    "#x = np.arange(binom.ppf(0.001, n, p), binom.ppf(0.999, n, p) + 1)\n",
    "x = np.arange(n + 1)\n",
    "ax.plot(x, rv.pmf(x), 'bo', ms=5, label='binom pmf')\n",
    "ax.vlines(x, 0, rv.pmf(x), colors='b', linestyles='-', lw=3, alpha=0.3,\n",
    "         label='frozen pmf')\n",
    "ax.legend(loc='best', frameon=False)\n",
    "plt.title(\"Probability Mass Function (PMF)\")\n",
    "plt.show()\n",
    "\n",
    "# The Cumulative Distribution Function (CDF)\n",
    "fig, ax = plt.subplots()\n",
    "ax.plot(x, rv.cdf(x), 'rs:', ms=5)\n",
    "plt.grid()\n",
    "plt.title(\"Cumulative Distribution Function (CDF)\")\n",
    "plt.show()"
   ]
  },
  {
   "cell_type": "markdown",
   "metadata": {},
   "source": [
    "## scipy.stats.norm\n",
    "\n",
    "- **pdf**(x, loc=0, scale=1): Probability density function.\n",
    "- **rvs**(loc=0, scale=1, size=1, random_state=None): Random variates.\n",
    "\n",
    "Ref: \n",
    "https://docs.scipy.org/doc/scipy/reference/generated/scipy.stats.norm.html"
   ]
  },
  {
   "cell_type": "code",
   "execution_count": 9,
   "metadata": {
    "scrolled": true
   },
   "outputs": [
    {
     "data": {
      "image/png": "[encoded data removed]",
      "text/plain": [
       "<Figure size 432x288 with 1 Axes>"
      ]
     },
     "metadata": {
      "needs_background": "light"
     },
     "output_type": "display_data"
    }
   ],
   "source": [
    "# Initialize the plot\n",
    "fig, ax = plt.subplots()\n",
    "\n",
    "# Plot PDF (probability density function)\n",
    "x = np.linspace(norm.ppf(0.0001), norm.ppf(0.9999), 100)\n",
    "ax.plot(x, norm.pdf(x),\n",
    "       'g-', lw=10, alpha=0.6, label='norm pdf')\n",
    "\n",
    "# Plot with a Random Variable object, freezing mu and sigma\n",
    "rv = norm()\n",
    "ax.plot(x, rv.pdf(x), 'r-', lw=1, label='frozen pdf')\n",
    "\n",
    "# Random\n",
    "r = norm.rvs(size=1000)\n",
    "ax.hist(r, density=True, histtype='stepfilled', alpha=0.2, label=\"rv hist\")\n",
    "\n",
    "# Show the plot\n",
    "ax.legend(loc='best', frameon=False)\n",
    "plt.grid()\n",
    "plt.show()"
   ]
  },
  {
   "cell_type": "code",
   "execution_count": null,
   "metadata": {
    "scrolled": true
   },
   "outputs": [],
   "source": []
  }
 ],
 "metadata": {
  "kernelspec": {
   "display_name": "Python 3",
   "language": "python",
   "name": "python3"
  },
  "language_info": {
   "codemirror_mode": {
    "name": "ipython",
    "version": 3
   },
   "file_extension": ".py",
   "mimetype": "text/x-python",
   "name": "python",
   "nbconvert_exporter": "python",
   "pygments_lexer": "ipython3",
   "version": "3.7.4"
  },
  "toc": {
   "base_numbering": 1,
   "nav_menu": {},
   "number_sections": true,
   "sideBar": true,
   "skip_h1_title": false,
   "title_cell": "Table of Contents",
   "title_sidebar": "Contents",
   "toc_cell": false,
   "toc_position": {},
   "toc_section_display": true,
   "toc_window_display": true
  }
 },
 "nbformat": 4,
 "nbformat_minor": 2
}
