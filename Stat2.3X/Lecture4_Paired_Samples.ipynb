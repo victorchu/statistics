{
 "cells": [
  {
   "cell_type": "markdown",
   "metadata": {},
   "source": [
    "<span style=\"font-size: xx-large; font-weight: bold;\">Lecture 4 - Paird Samples</span>\n",
    "\n",
    "Ref: https://courses.edx.org/courses/BerkeleyX/Stat_2.3x/2T2014/course/"
   ]
  },
  {
   "cell_type": "code",
   "execution_count": 1,
   "metadata": {},
   "outputs": [],
   "source": [
    "import pandas as pd\n",
    "import numpy as np\n",
    "import matplotlib.pyplot as plt\n",
    "\n",
    "from scipy.stats import binom\n",
    "from scipy.stats import norm"
   ]
  },
  {
   "cell_type": "markdown",
   "metadata": {},
   "source": [
    "## Sign Test\n",
    "\n",
    "Given 100 students, use binominal distribution to calculate\n",
    "the chance (P value) that 62 students have worse math scores\n",
    "than verbal scores."
   ]
  },
  {
   "cell_type": "code",
   "execution_count": 2,
   "metadata": {},
   "outputs": [
    {
     "name": "stdout",
     "output_type": "stream",
     "text": [
      "# Probability mass function\n",
      "pmf(50) = 0.07958923738717888\n",
      "\n",
      "# Cumulative distribution function\n",
      "cdf(49) = 0.4602053813064103\n",
      "cdf(50) = 0.5397946186935897\n",
      "cdf(51) = 0.6178232827986667\n",
      "[cdf(49)+cdf(50)]/2 = 0.5\n",
      "cdf(49)+ 0.5*pmf(50) = 0.4999999999999998\n",
      "\n",
      "# For the class (the teacher used CDF(61.5))\n",
      "cdf(62) = 0.9939835121373183\n",
      "cdf(61.5) = 0.9895106321610742\n",
      "cdf(61)+.5 pmf(62) = 0.9917470721491962\n",
      "1 - (cdf(61)+.5 pmf(62)) = 0.008252927850803827\n",
      "1 - cdf(61.5) = 0.010489367838925845\n",
      "1 - cdf(62.0) = 0.006016487862681719\n",
      "100*(1 - cdf(61.5)) = 1.0489367838925845\n",
      "\n",
      "# PPF\n",
      "ppf(0.5) = 50.0\n",
      "ppf(0.015) = 39.0\n",
      "\n",
      "# Normal Distribution\n",
      "1 - norm.cdf(62,50,5) = 0.008197535924596155\n"
     ]
    }
   ],
   "source": [
    "n, p = 100, 0.5\n",
    "print(\"# Probability mass function\")\n",
    "print(\"pmf(50) =\", binom.pmf(50,n,p))\n",
    "\n",
    "print(\"\\n# Cumulative distribution function\")\n",
    "print(\"cdf(49) =\", binom.cdf(49,n,p))\n",
    "print(\"cdf(50) =\", binom.cdf(50,n,p))\n",
    "print(\"cdf(51) =\", binom.cdf(51,n,p))\n",
    "print(\"[cdf(49)+cdf(50)]/2 =\", (binom.cdf(49,n,p)+binom.cdf(50,n,p))/2)\n",
    "print(\"cdf(49)+ 0.5*pmf(50) =\", binom.cdf(49,n,p)+ 0.5*binom.pmf(50,n,p))\n",
    "\n",
    "print(\"\\n# For the class (the teacher used CDF(61.5))\")\n",
    "print(\"cdf(62) =\", binom.cdf(62,n,p))\n",
    "print(\"cdf(61.5) =\", binom.cdf(61.5,n,p))\n",
    "print(\"cdf(61)+.5 pmf(62) =\", binom.cdf(61,n,p)+.5 * binom.pmf(62,n,p))\n",
    "print(\"1 - (cdf(61)+.5 pmf(62)) =\", 1 - binom.cdf(61,n,p) - 0.5 * binom.pmf(62,n,p))\n",
    "print(\"1 - cdf(61.5) =\", 1 - binom.cdf(61.5,n,p))\n",
    "print(\"1 - cdf(62.0) =\", 1 - binom.cdf(62.0,n,p))\n",
    "\n",
    "print(\"100*(1 - cdf(61.5)) =\", 100*(1 - binom.cdf(61.5,n,p)))\n",
    "\n",
    "print(\"\\n# PPF\")\n",
    "print(\"ppf(0.5) =\", binom.ppf(0.5,n,p))\n",
    "print(\"ppf(0.015) =\", binom.ppf(0.015,n,p))\n",
    "\n",
    "# Now use normal distribution as an approximation\n",
    "print(\"\\n# Normal Distribution\")\n",
    "print(\"1 - norm.cdf(62,50,5) =\", 1 - norm.cdf(62, 50, 5))\n"
   ]
  },
  {
   "cell_type": "markdown",
   "metadata": {},
   "source": [
    "## Binom Example"
   ]
  },
  {
   "cell_type": "code",
   "execution_count": 3,
   "metadata": {},
   "outputs": [
    {
     "data": {
      "image/png": "[encoded data removed]",
      "text/plain": [
       "<Figure size 432x288 with 1 Axes>"
      ]
     },
     "metadata": {
      "needs_background": "light"
     },
     "output_type": "display_data"
    }
   ],
   "source": [
    "from scipy.stats import binom\n",
    "import matplotlib.pyplot as plt\n",
    "import numpy as np\n",
    "\n",
    "fig, ax = plt.subplots(1, 1)\n",
    "\n",
    "n, p = 5, 0.4\n",
    "mean, var, skew, kurt = binom.stats(n, p, moments='mvsk')\n",
    "\n",
    "x = np.arange(binom.ppf(0.01, n, p),\n",
    "              binom.ppf(0.99, n, p))\n",
    "ax.plot(x, binom.pmf(x, n, p), 'bo', ms=8, label='binom pmf')\n",
    "ax.vlines(x, 0, binom.pmf(x, n, p), colors='b', lw=5, alpha=0.5)\n",
    "\n",
    "plt.show()"
   ]
  },
  {
   "cell_type": "code",
   "execution_count": null,
   "metadata": {},
   "outputs": [],
   "source": []
  }
 ],
 "metadata": {
  "kernelspec": {
   "display_name": "Python 3",
   "language": "python",
   "name": "python3"
  },
  "language_info": {
   "codemirror_mode": {
    "name": "ipython",
    "version": 3
   },
   "file_extension": ".py",
   "mimetype": "text/x-python",
   "name": "python",
   "nbconvert_exporter": "python",
   "pygments_lexer": "ipython3",
   "version": "3.7.4"
  },
  "toc": {
   "base_numbering": 1,
   "nav_menu": {},
   "number_sections": true,
   "sideBar": true,
   "skip_h1_title": false,
   "title_cell": "Table of Contents",
   "title_sidebar": "Contents",
   "toc_cell": false,
   "toc_position": {},
   "toc_section_display": true,
   "toc_window_display": false
  }
 },
 "nbformat": 4,
 "nbformat_minor": 2
}
