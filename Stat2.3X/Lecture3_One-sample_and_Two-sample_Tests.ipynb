{
 "cells": [
  {
   "cell_type": "markdown",
   "metadata": {},
   "source": [
    "<span style=\"font-size: xx-large; font-weight: bold;\">Lecture 3 - One-sample and Two-sample Tests</span>\n",
    "\n",
    "Ref: https://courses.edx.org/courses/BerkeleyX/Stat_2.3x/2T2014/course/"
   ]
  },
  {
   "cell_type": "code",
   "execution_count": 1,
   "metadata": {
    "scrolled": true
   },
   "outputs": [],
   "source": [
    "import pandas as pd\n",
    "import numpy as np\n",
    "import matplotlib.pyplot as plt\n",
    "\n",
    "from scipy.stats import norm\n",
    "from scipy.stats import t\n",
    "\n",
    "# %pylab inline"
   ]
  },
  {
   "cell_type": "markdown",
   "metadata": {},
   "source": [
    "# z-test for a population mean"
   ]
  },
  {
   "cell_type": "markdown",
   "metadata": {},
   "source": [
    "## Average Height of University Students\n",
    "\n",
    "**Problem**\n",
    "- Average height of U.S. men: 69.5 inches\n",
    "- Data: Simple random sample of 100 men taken in a university system with tens of thousands of students\n",
    "  - Average height in sample: 69 inches\n",
    "  - SD of heights in sample: 2.5 inches\n",
    "\n",
    "**Question**: Are the men in the university system shorter, on average, than U.S. men? Or is this just chance variation?"
   ]
  },
  {
   "cell_type": "code",
   "execution_count": 2,
   "metadata": {
    "scrolled": true
   },
   "outputs": [
    {
     "name": "stdout",
     "output_type": "stream",
     "text": [
      "- SE = 0.25\n",
      "- z = -2.0\n",
      "- P-value = 2.275%\n",
      "=> ACCEPT HA that students are shorter\n"
     ]
    }
   ],
   "source": [
    "from scipy.stats import norm\n",
    "\n",
    "# Data\n",
    "n = 100\n",
    "sample_mu = 69\n",
    "sample_sd = 2.5\n",
    "pop_mu = 69.5\n",
    "\n",
    "# Calculate the Standard Error (SE)\n",
    "SE = sample_sd / np.sqrt(n)\n",
    "print(\"- SE = {}\".format(SE))\n",
    "\n",
    "# Calculate the z value\n",
    "z = (sample_mu - pop_mu) / SE\n",
    "print(\"- z = {}\".format(z))\n",
    "\n",
    "# Calculate the P-value\n",
    "P_value = norm.cdf(z)\n",
    "print(\"- P-value = {:.3f}%\".format(100 * P_value))\n",
    "\n",
    "if (P_value < 0.05):\n",
    "    print(\"=> ACCEPT HA that students are shorter\")\n",
    "else:\n",
    "    print(\"=> ACCEPT H0 that students are not different in height.\")"
   ]
  },
  {
   "cell_type": "markdown",
   "metadata": {},
   "source": [
    "# t-test for a population mean"
   ]
  },
  {
   "cell_type": "markdown",
   "metadata": {},
   "source": [
    "## Five Mice\n",
    "\n",
    "- Population of mice of a particular breed and age\n",
    "- External standard: average weight is believed to be 30 gm\n",
    "- Data: SRS of 5 mice from a large number of this breed and age;\u000b",
    "weight (gm): 31.8, 30.9, 34.2, 32.1, 28.8 \u000b",
    "sample mean = 31.56 gm\n",
    "\n",
    "**Question**:\n",
    "- Is the average weight of the population more than 30 gm? \n",
    "- Or is this just chance variation?\n",
    "\n",
    "**Issues**\n",
    "- Sample is small; \n",
    "- can’t apply Central Limit Theorem to the distribution of the sample mean; \n",
    "- can’t assume probabilities for sample mean are normal. (unless the variable itself is normal)\n",
    "\n",
    "**Note**\n",
    "- Due to the small sample size, we need to use t-test to get the SD."
   ]
  },
  {
   "cell_type": "code",
   "execution_count": 3,
   "metadata": {},
   "outputs": [
    {
     "name": "stdout",
     "output_type": "stream",
     "text": [
      "- samples = [31.8, 30.9, 34.2, 32.1, 28.8]\n",
      "- sample mean = 31.5600\n",
      "- sample SD = 1.9604\n",
      "- population mean = 30.0000\n",
      "- SE of sample mean = 0.8767\n",
      "- t = 1.7794\n",
      "- P-value = 7.4894%\n",
      "=> Reject H0\n"
     ]
    }
   ],
   "source": [
    "from scipy.stats import t\n",
    "\n",
    "# Data\n",
    "pop_mean = 30.00\n",
    "samples = [31.8, 30.9, 34.2, 32.1, 28.8]\n",
    "sample_mean = np.mean(samples)\n",
    "n = len(samples)\n",
    "sample_sd = np.std(samples, ddof=1)  # Means Delta Degrees of Freedom = 1\n",
    "\n",
    "print(\"- samples = {}\".format(samples))\n",
    "print(\"- sample mean = {:.4f}\".format(sample_mean))\n",
    "print(\"- sample SD = {:.4f}\".format(sample_sd))\n",
    "print(\"- population mean = {:.4f}\".format(pop_mean))\n",
    "\n",
    "# Calculate t (relative of z)\n",
    "SE = sample_sd / np.sqrt(n)\n",
    "t_val = (sample_mean - pop_mean) / SE\n",
    "print(\"- SE of sample mean = {:.4f}\".format(SE))\n",
    "print(\"- t = {:.4f}\".format(t_val))\n",
    "\n",
    "# Calculate P-value\n",
    "dof = n - 1\n",
    "P_val = 1 - t.cdf(t_val, dof)\n",
    "print(\"- P-value = {:.4f}%\".format(100 * P_val))\n",
    "\n",
    "if P_val > 0.05:\n",
    "    print(\"=> Reject H0\")\n",
    "else:\n",
    "    print(\"=> Accept H0\")"
   ]
  },
  {
   "cell_type": "markdown",
   "metadata": {},
   "source": [
    "# Exercises"
   ]
  },
  {
   "cell_type": "markdown",
   "metadata": {},
   "source": [
    "## Phone Battery Hours\n",
    "\n",
    "A cellular phone manufacturer claims that the rechargeable batteries in a particular model\n",
    "of phone give an average of 2 hours of talk time.\n",
    "A consumer group files a lawsuit against the manufacturer, \n",
    "alleging that the batteries do not last as long as claimed.\n",
    "**The consumer group hires you as an expert witness.**\n",
    "\n",
    "You propose to test the hypothesis that the average talk time is 2 hours, \n",
    "at significance level 10%.  For \"fairness,\" you decide to do a two-tail z test, based on the sample mean talk time of 100 phones. The lawyers obtain a court order to compel the manufacturer to deliver 100 phones for testing. You measure the talk time of each phone, starting with fully charged batteries. The average talk time is 1.98 hours, with a sample standard deviation of 0.1 hours.\n",
    "\n",
    "**QUESTION**: Should you reject the null hypothesis at significance level 10%?\n",
    "\n",
    "**ANSWER**:  No. (Because we cannot proceed with the test!)\n",
    "\n",
    "There is no reason to think that the sample is random; using these data for a test of significance is meaningless. The manufacturer might have sent phones with particularly long talk times, or particularly short talk times. One cannot perform a significance test without a well-defined random mechanism.\n",
    "\n",
    "Ref: https://www.stat.berkeley.edu/~stark/SticiGui/Text/zTest.htm (Exercise 30-1)"
   ]
  },
  {
   "cell_type": "markdown",
   "metadata": {},
   "source": [
    "## Phone Battery Hours (Cont.)"
   ]
  },
  {
   "cell_type": "markdown",
   "metadata": {},
   "source": [
    "You convince the lawyers that it is crucial to base the inference on a random sample. \n",
    "To take a random sample, you select 100 cell phone stores at random from phone books in 10 major cities, and buy one phone of the model in question from each store.  Suppose that the resulting sample is effectively a random sample of size 100 with replacement from the population of phones of that model currently available for sale in the U.S.\n",
    "\n",
    "You measure the talk time of each phone, starting with fully charged batteries.\n",
    "The average talk time is 1.98 hours, with a sample standard deviation of 0.1 hours.\n",
    "\n",
    "**QUESTIONS**:\n",
    "1. What is the z score? \n",
    "2. What is the P-value of the null hypothesis given these data? \n",
    "3. Should you reject the null hypothesis at significance level 10%?\n",
    "\n",
    "Ref: https://www.stat.berkeley.edu/~stark/SticiGui/Text/zTest.htm (Exercise 30-2)"
   ]
  },
  {
   "cell_type": "code",
   "execution_count": 4,
   "metadata": {},
   "outputs": [
    {
     "name": "stdout",
     "output_type": "stream",
     "text": [
      "SE = 0.01\n",
      "z = -2.00\n",
      "P-value = 4.550%\n",
      "=> Reject the Null Hypothesis.\n"
     ]
    }
   ],
   "source": [
    "# Get the z value\n",
    "n = 100\n",
    "sample_mean = 1.98\n",
    "sample_SD = 0.1\n",
    "pop_mean = 2.0\n",
    "sample_SE = 0.1 / np.sqrt(100)\n",
    "z = (sample_mean - pop_mean) / sample_SE\n",
    "print(\"SE = {}\".format(sample_SE))\n",
    "print(\"z = {:.2f}\".format(z))\n",
    "\n",
    "# Get the P-value\n",
    "P_val = 2 * norm.cdf(z)\n",
    "print(\"P-value = {:.3f}%\".format(100*P_val))\n",
    "\n",
    "# Conclusion:\n",
    "if P_val < 0.10:\n",
    "    print(\"=> Reject the Null Hypothesis.\")\n",
    "else:\n",
    "    print(\"=> Accept the Null Hypothesis.\")\n",
    "    \n",
    "# Comments:\n",
    "#  I think the consumer group is too picky.\n",
    "#  The test shows a mean of 1 hour 58.8 minutes +- 0.6 minutes.\n",
    "#  Do we need a legal case to say that it is significantly different from 2 hours?"
   ]
  },
  {
   "cell_type": "markdown",
   "metadata": {},
   "source": [
    "## Inventory Shrinkage\n",
    "\n",
    "A discount store is comparing the rate of inventory \"shrinkage\" for food and non-food items. \n",
    "*Shrinkage* is losing inventory unintentionally, for example, through **shoplifting**.\n",
    "\n",
    "Management is going to install more security cameras in the store, but has not decided where to put them. The store stocks thousands of food and non-food items. Some of the managers think that food items are stolen more frequently than non-food items, so the new cameras should be concentrated disproportionately in the food aisles. To inform the decision, management wants to test the null hypothesis that the shrinkage is the same for food and non-food items, against the alternative hypothesis that shrinkage is higher for food items. Shrinkage will be measured in units of lost dollars per line item of inventory.\n",
    "\n",
    "To test the hypothesis, internal auditors will select simple random samples of 400 food line items\n",
    "and 400 from the thousands of food and non-food line items the store offers.\n",
    "These sample sizes are small compared with the numbers of food and non-food items stocked, so the simple random samples can be treated as if they were random samples with replacement.\n",
    "\n",
    "For each line item in the sample, the auditors note the number of units inventory records show to be in stock (recorded units) and physically count the number of units in stock (counted units). They multiply the discrepancy, recorded units minus the counted units, by the replacement cost per item, to obtain the total number of dollars of inventory missing for that line item. Then they find the sample mean and sample standard deviation of the missing dollars of inventory per line item separately for food and non-food items.\n",
    "\n",
    "Let X be the sample mean missing dollars per food line item; let Y be the sample mean missing dollars per non-food line item; and let SX and SY be the corresponding sample standard deviations.\n",
    "\n",
    "Suppose that X = \\\\$0.48, Y = \\\\$0.09, SX = \\\\$0.1, and SY = \\\\$0.76.\n",
    "\n",
    "**Questions**:\n",
    "1. What is the estimated SE of X − Y? \n",
    "2. What is the observed z-score? \n",
    "3. What is the P-value of the null hypothesis? \n",
    "4. Should the null hypothesis be rejected at significance level 5%? \n",
    "\n",
    "Ref: https://www.stat.berkeley.edu/~stark/SticiGui/Text/zTest.htm (Exercise 30-3)"
   ]
  },
  {
   "cell_type": "code",
   "execution_count": 5,
   "metadata": {},
   "outputs": [
    {
     "name": "stdout",
     "output_type": "stream",
     "text": [
      "SE X = 0.005\n",
      "SE Y = 0.038\n",
      "SE X-Y = 0.03833\n",
      "z = 10.17545\n",
      "P-value = 0.00000e+00\n"
     ]
    }
   ],
   "source": [
    "mu_x = 0.48\n",
    "mu_y = 0.09\n",
    "sd_x = 0.1\n",
    "sd_y = 0.76\n",
    "n = 400\n",
    "se_x = sd_x / np.sqrt(400)\n",
    "se_y = sd_y / np.sqrt(400)\n",
    "print(\"SE X = {}\".format(se_x))\n",
    "print(\"SE Y = {}\".format(se_y))\n",
    "\n",
    "se = np.sqrt(se_x**2 + se_y**2)\n",
    "print(\"SE X-Y = {:.5f}\".format(se))\n",
    "\n",
    "z = (mu_x - mu_y) / se\n",
    "print(\"z = {:.5f}\".format(z))\n",
    "\n",
    "P_val = 1.0 - norm.cdf(z)\n",
    "print(\"P-value = {:.5e}\".format(P_val))\n"
   ]
  },
  {
   "cell_type": "markdown",
   "metadata": {},
   "source": [
    "## Normal Distribution\n",
    "\n",
    "A list of heights is approximately normally distributed with mean 65in. and SD 5in. What is the approximate fraction of numbers in the list between 71in. and 76in.?\n",
    "\n",
    "Ref: https://www.stat.berkeley.edu/~stark/SticiGui/Text/zTest.htm"
   ]
  },
  {
   "cell_type": "code",
   "execution_count": 6,
   "metadata": {},
   "outputs": [
    {
     "name": "stdout",
     "output_type": "stream",
     "text": [
      "CDF(71) = 0.8849303297782918\n",
      "CDF(76) = 0.9860965524865014\n",
      "Diff    = 0.10116622270820963\n"
     ]
    }
   ],
   "source": [
    "sv = norm(65, 5)\n",
    "cdf_71 = sv.cdf(71)\n",
    "cdf_76 = sv.cdf(76)\n",
    "print(\"CDF(71) = {}\".format(cdf_71))\n",
    "print(\"CDF(76) = {}\".format(cdf_76))\n",
    "print(\"Diff    = {}\".format(cdf_76 - cdf_71))"
   ]
  },
  {
   "cell_type": "markdown",
   "metadata": {},
   "source": [
    "## Normal (Cont.)\n",
    "\n",
    "A list of heights has mean 62in. and SD 6in. The fraction of values in the list between 54in. and 61in. is **44.26%**.\n",
    "\n",
    "Is the list of numbers approximately normally distributed?"
   ]
  },
  {
   "cell_type": "code",
   "execution_count": 7,
   "metadata": {},
   "outputs": [
    {
     "name": "stdout",
     "output_type": "stream",
     "text": [
      "Normal Diff = 34.26%\n"
     ]
    }
   ],
   "source": [
    "sv = norm(62, 6)\n",
    "frac = sv.cdf(61) - sv.cdf(54)\n",
    "print(\"Normal Diff = {:.2f}%\".format(100*frac))\n",
    "\n",
    "# 34.26%t is very different from 44.26%\n",
    "# So that data is NOT normally distributed."
   ]
  },
  {
   "cell_type": "markdown",
   "metadata": {},
   "source": [
    "## Monthly E-mail\n",
    "\n",
    "An internet service provider (ISP) provides internet connections to 100,000 customers. Historically, its customers have sent and received an average of **200 email messages** per month. The ISP suspects that email use is increasing, and wants to plan for increased demand. To determine whether its customers currently send and receive an average of more than 200 messages per month, the ISP will take a simple random sample of **35** customers and calculate the *sample mean* and *sample standard deviation* of the number of email messages those customers sent and received in the previous month.\n",
    "\n",
    "- The null hypothesis is that:\n",
    "  **the population mean == 200 messages/month**\n",
    "\n",
    "- The alternative hypothesis is that:\n",
    "  **the population mean > 200 messages/month**\n",
    "\n",
    "Suppose that the distribution of the number of email messages per month among all customers of the ISP has a nearly normal distribution.\n",
    "\n",
    "- It is appropriate to use: **a right-tailed t-test**\n",
    "\n",
    "The sample mean is observed to be **211.2** emails per month, with a sample standard deviation of 66 emails per month.\n",
    "\n",
    "- The estimated standard error of the sample mean is ___\n",
    "\n",
    "- The observed value of the T statistic is ___\n",
    "\n",
    "- The P-value of the null hypothesis is ___\n",
    " check answer to exercise 17\n",
    "\n",
    "- The ISP should reject the null hypothesis at significance level 1% ___\n",
    "\n",
    "Ref: https://www.stat.berkeley.edu/~stark/SticiGui/Text/zTest.htm (Exercise 30-7)"
   ]
  },
  {
   "cell_type": "code",
   "execution_count": 8,
   "metadata": {},
   "outputs": [
    {
     "name": "stdout",
     "output_type": "stream",
     "text": [
      "SE = 11.156036162416418\n",
      "T-statistics = 1.0039408116775097\n",
      "P-value = 0.16124949826476165\n",
      "The ISP shall Keep the NULL HYPTHOSISI\n"
     ]
    }
   ],
   "source": [
    "from scipy.stats import t\n",
    "\n",
    "sample_mean = 211.2\n",
    "sample_sd = 66\n",
    "n = 35\n",
    "pop_mean = 200\n",
    "dof = n - 1\n",
    "\n",
    "se = sample_sd / np.sqrt(n)\n",
    "print(\"SE = {}\".format(se))\n",
    "\n",
    "Tstat = (sample_mean - pop_mean) / se\n",
    "print(\"T-statistics = {}\".format(Tstat))\n",
    "\n",
    "Pval = 1.0 - t.cdf(Tstat, dof)\n",
    "print(\"P-value = {}\".format(Pval))\n",
    "\n",
    "significance_level = 0.01\n",
    "if Pval < significance_level:\n",
    "    print(\"The ISP shall REJECT the NULL HYPTHOSISI\")\n",
    "else:\n",
    "    print(\"The ISP shall Keep the NULL HYPTHOSISI\")\n",
    "    "
   ]
  },
  {
   "cell_type": "code",
   "execution_count": null,
   "metadata": {},
   "outputs": [],
   "source": []
  },
  {
   "cell_type": "markdown",
   "metadata": {},
   "source": [
    "# Scipy Stats Tools"
   ]
  },
  {
   "cell_type": "markdown",
   "metadata": {
    "scrolled": true
   },
   "source": [
    "## scipy.stats.t\n",
    "\n",
    "Ref: https://docs.scipy.org/doc/scipy/reference/generated/scipy.stats.t.html"
   ]
  },
  {
   "cell_type": "code",
   "execution_count": 9,
   "metadata": {},
   "outputs": [
    {
     "data": {
      "image/png": "[encoded data removed]",
      "text/plain": [
       "<Figure size 432x288 with 1 Axes>"
      ]
     },
     "metadata": {
      "needs_background": "light"
     },
     "output_type": "display_data"
    }
   ],
   "source": [
    "from scipy.stats import t\n",
    "from scipy.stats import norm\n",
    "\n",
    "# t Distribution\n",
    "dof = 4  # degree of freedom\n",
    "fig, ax = plt.subplots()\n",
    "x = np.linspace(t.ppf(0.01, dof), t.ppf(0.99, dof), 100)\n",
    "ax.plot(x, t.pdf(x, dof), 'r-', lw=8, alpha=0.6, label='t pdf')\n",
    "\n",
    "# Frozon\n",
    "rv = t(dof)\n",
    "ax.plot(x, rv.pdf(x), 'k-', lw=1, label='frozen pdf')\n",
    "\n",
    "# Normal\n",
    "ax.plot(x, norm.pdf(x), 'b-.', lw=1, label='norm pdf')\n",
    "\n",
    "plt.title(\"t-curve #{} vs normal distributions\".format(dof))\n",
    "plt.legend(loc='best', frameon=False)\n",
    "plt.grid()\n",
    "plt.show()"
   ]
  },
  {
   "cell_type": "code",
   "execution_count": null,
   "metadata": {},
   "outputs": [],
   "source": []
  }
 ],
 "metadata": {
  "kernelspec": {
   "display_name": "Python 3",
   "language": "python",
   "name": "python3"
  },
  "language_info": {
   "codemirror_mode": {
    "name": "ipython",
    "version": 3
   },
   "file_extension": ".py",
   "mimetype": "text/x-python",
   "name": "python",
   "nbconvert_exporter": "python",
   "pygments_lexer": "ipython3",
   "version": "3.7.4"
  },
  "toc": {
   "base_numbering": 1,
   "nav_menu": {},
   "number_sections": true,
   "sideBar": true,
   "skip_h1_title": false,
   "title_cell": "Table of Contents",
   "title_sidebar": "Contents",
   "toc_cell": false,
   "toc_position": {},
   "toc_section_display": true,
   "toc_window_display": true
  }
 },
 "nbformat": 4,
 "nbformat_minor": 2
}
