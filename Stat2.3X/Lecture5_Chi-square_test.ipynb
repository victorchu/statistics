{
 "cells": [
  {
   "cell_type": "markdown",
   "metadata": {},
   "source": [
    "<span style=\"font-size: xx-large; font-weight: bold;\">Lecture 5 - Chi-square Test</span>\n",
    "\n",
    "Ref: https://courses.edx.org/courses/BerkeleyX/Stat_2.3x/2T2014/course/"
   ]
  },
  {
   "cell_type": "code",
   "execution_count": 1,
   "metadata": {},
   "outputs": [],
   "source": [
    "import pandas as pd\n",
    "import numpy as np\n",
    "import matplotlib.pyplot as plt\n",
    "\n",
    "from scipy.stats import chisquare\n",
    "\n",
    "# %pylab inline"
   ]
  },
  {
   "cell_type": "markdown",
   "metadata": {},
   "source": [
    "## Not everything's normal: a chi-square test!\n",
    "\n",
    "Sample of students at a large university\n",
    "\n",
    "\t- freshmen\t54\n",
    "\t- sophomores  40\n",
    "\t- juniors  51\n",
    "\t- seniors  39\n",
    "\t- graduate students  16\n",
    "\n",
    "**Known**:\n",
    "- Among students at university, 10% are graduate students\n",
    "- The rest are evenly distributed among freshmen, sophomores, juniors and seniors.\n",
    "\n",
    "**Question**: Is the sample like a SRS (Simple Random Sample)?"
   ]
  },
  {
   "cell_type": "code",
   "execution_count": 2,
   "metadata": {},
   "outputs": [
    {
     "data": {
      "text/plain": [
       "Power_divergenceResult(statistic=4.7555555555555555, pvalue=0.3133107571278041)"
      ]
     },
     "execution_count": 2,
     "metadata": {},
     "output_type": "execute_result"
    }
   ],
   "source": [
    "from scipy.stats import chisquare\n",
    "\n",
    "f_obs = [54, 40, 51, 39, 16]\n",
    "f_exp = [45, 45, 45, 45, 20]\n",
    "chisquare(f_obs, f_exp)"
   ]
  },
  {
   "cell_type": "code",
   "execution_count": null,
   "metadata": {},
   "outputs": [],
   "source": []
  },
  {
   "cell_type": "markdown",
   "metadata": {
    "collapsed": true
   },
   "source": [
    "## Lec 5.3:   Chi-squared test for independence\n",
    "\n",
    "Simple random sample of students at a large university\n",
    "\n",
    "<table>\n",
    "  <tr><th>observed<th>Female<th>Male<th>Total</tr>\n",
    "  <tr><th>Declared science<td>62<td>21<td>83</tr>\n",
    "  <tr><th>Declared other<td>137<td>74<td>211</tr>\n",
    "  <tr><th>Undeclared<td>48<td>58<td>106</tr>\n",
    "  <tr><th>Total<td>247<td>153<td>400</tr></table>\n",
    "\n",
    "Question: At the university, are gender and major declaration status independent?\n",
    "\n",
    "Hypothesis:\n",
    "- Null: independent\n",
    "- Alternative: not independent\n"
   ]
  },
  {
   "cell_type": "code",
   "execution_count": 3,
   "metadata": {},
   "outputs": [
    {
     "name": "stdout",
     "output_type": "stream",
     "text": [
      "X2 = Power_divergenceResult(statistic=18.959814612837114, pvalue=0.0002786796577823036)\n",
      "X2 statistics=18.960, p-value=0.00027868\n"
     ]
    }
   ],
   "source": [
    "# Observations\n",
    "f_obs = [62, 21, 137, 74, 48, 58]\n",
    "# Use \"margin statsitics\" to get the expected values\n",
    "f_exp = [51.25, 31.75, 130.29, 80.71, 65.45, 40.55]\n",
    "# Degree of freedom\n",
    "ddof = (3 - 1) * (2 - 1)\n",
    "\n",
    "# Get X2 statistics\n",
    "x2 = chisquare(f_obs, f_exp, ddof=ddof)\n",
    "print(\"X2 = {}\".format(x2))\n",
    "print(\"X2 statistics={:.3f}, p-value={:.8f}\".format(x2.statistic, x2.pvalue))"
   ]
  },
  {
   "cell_type": "markdown",
   "metadata": {},
   "source": [
    "## Genetics Model\n",
    "\n",
    "According to a genetics model, plants of a particular species occur in the categories A, B, C, and D, in the ratio 9:3:3:1. The categories of different plants are mutually independent. At a lab that grows these plants, 218 are in Category A, 69 in Category B, 84 in Category C, and 29 in Category D.\n",
    "\n",
    " \n",
    "\n",
    "Does the model look good?"
   ]
  },
  {
   "cell_type": "code",
   "execution_count": 4,
   "metadata": {},
   "outputs": [
    {
     "name": "stdout",
     "output_type": "stream",
     "text": [
      "observed = [218  69  84  29]\n",
      "expected = [225.  75.  75.  25.]\n",
      "X2 = Power_divergenceResult(statistic=2.417777777777778, pvalue=0.4903338749035878)\n",
      "=> The model looks good!\n"
     ]
    }
   ],
   "source": [
    "ratios = np.array([9, 3, 3, 1])\n",
    "s = ratios.sum()\n",
    "f_obs = np.array([218, 69, 84, 29])\n",
    "f_exp = f_obs.sum() * ratios / s\n",
    "print(\"observed = {}\".format(f_obs))\n",
    "print(\"expected = {}\".format(f_exp))\n",
    "\n",
    "print(\"X2 = {}\".format(chisquare(f_obs, f_exp)))\n",
    "print(\"=> The model looks good!\")"
   ]
  },
  {
   "cell_type": "markdown",
   "metadata": {},
   "source": [
    "## Car places and fuel types\n",
    "A simple random sample of cars in a city was categorized according to fuel type and place of manufacture.\n",
    "\n",
    "       fuel type                  domestic\tforeign\n",
    "       gasoline\t                   146\t   191\n",
    "       diesel\t                    18\t    26\n",
    "       gasoline/electricity hybrid\t51\t    79\n",
    "\n",
    "Are place of manufacture and fuel type independent? Follow the steps in Problems 2A-2D.\n"
   ]
  },
  {
   "cell_type": "code",
   "execution_count": 5,
   "metadata": {},
   "outputs": [
    {
     "data": {
      "text/html": [
       "<div>\n",
       "<style scoped>\n",
       "    .dataframe tbody tr th:only-of-type {\n",
       "        vertical-align: middle;\n",
       "    }\n",
       "\n",
       "    .dataframe tbody tr th {\n",
       "        vertical-align: top;\n",
       "    }\n",
       "\n",
       "    .dataframe thead th {\n",
       "        text-align: right;\n",
       "    }\n",
       "</style>\n",
       "<table border=\"1\" class=\"dataframe\">\n",
       "  <thead>\n",
       "    <tr style=\"text-align: right;\">\n",
       "      <th></th>\n",
       "      <th>fuel</th>\n",
       "      <th>domestic</th>\n",
       "      <th>foreign</th>\n",
       "      <th>total</th>\n",
       "    </tr>\n",
       "  </thead>\n",
       "  <tbody>\n",
       "    <tr>\n",
       "      <td>0</td>\n",
       "      <td>gasolin</td>\n",
       "      <td>146</td>\n",
       "      <td>191</td>\n",
       "      <td>337</td>\n",
       "    </tr>\n",
       "    <tr>\n",
       "      <td>1</td>\n",
       "      <td>diesel</td>\n",
       "      <td>18</td>\n",
       "      <td>26</td>\n",
       "      <td>44</td>\n",
       "    </tr>\n",
       "    <tr>\n",
       "      <td>2</td>\n",
       "      <td>hybrid</td>\n",
       "      <td>51</td>\n",
       "      <td>79</td>\n",
       "      <td>130</td>\n",
       "    </tr>\n",
       "  </tbody>\n",
       "</table>\n",
       "</div>"
      ],
      "text/plain": [
       "      fuel  domestic  foreign  total\n",
       "0  gasolin       146      191    337\n",
       "1   diesel        18       26     44\n",
       "2   hybrid        51       79    130"
      ]
     },
     "execution_count": 5,
     "metadata": {},
     "output_type": "execute_result"
    }
   ],
   "source": [
    "df_obs = pd.DataFrame({'fuel': ['gasolin', 'diesel', 'hybrid'],\n",
    "                   'domestic':[146, 18, 51],\n",
    "                   'foreign':[191, 26, 79]})\n",
    "df_obs['total'] = df_obs['domestic'] + df_obs['foreign']\n",
    "df_obs.head()"
   ]
  },
  {
   "cell_type": "code",
   "execution_count": 6,
   "metadata": {},
   "outputs": [
    {
     "name": "stdout",
     "output_type": "stream",
     "text": [
      "domestic ratio = 0.4207436399217221\n",
      "foreign_ratio = 0.5792563600782779\n",
      "domestic gasolin ratio = 0.2774767253495506\n"
     ]
    },
    {
     "data": {
      "text/html": [
       "<div>\n",
       "<style scoped>\n",
       "    .dataframe tbody tr th:only-of-type {\n",
       "        vertical-align: middle;\n",
       "    }\n",
       "\n",
       "    .dataframe tbody tr th {\n",
       "        vertical-align: top;\n",
       "    }\n",
       "\n",
       "    .dataframe thead th {\n",
       "        text-align: right;\n",
       "    }\n",
       "</style>\n",
       "<table border=\"1\" class=\"dataframe\">\n",
       "  <thead>\n",
       "    <tr style=\"text-align: right;\">\n",
       "      <th></th>\n",
       "      <th>fuel</th>\n",
       "      <th>domestic</th>\n",
       "      <th>foreign</th>\n",
       "      <th>total</th>\n",
       "    </tr>\n",
       "  </thead>\n",
       "  <tbody>\n",
       "    <tr>\n",
       "      <td>0</td>\n",
       "      <td>gasolin</td>\n",
       "      <td>141.790607</td>\n",
       "      <td>195.209393</td>\n",
       "      <td>337</td>\n",
       "    </tr>\n",
       "    <tr>\n",
       "      <td>1</td>\n",
       "      <td>diesel</td>\n",
       "      <td>18.512720</td>\n",
       "      <td>25.487280</td>\n",
       "      <td>44</td>\n",
       "    </tr>\n",
       "    <tr>\n",
       "      <td>2</td>\n",
       "      <td>hybrid</td>\n",
       "      <td>54.696673</td>\n",
       "      <td>75.303327</td>\n",
       "      <td>130</td>\n",
       "    </tr>\n",
       "  </tbody>\n",
       "</table>\n",
       "</div>"
      ],
      "text/plain": [
       "      fuel    domestic     foreign  total\n",
       "0  gasolin  141.790607  195.209393    337\n",
       "1   diesel   18.512720   25.487280     44\n",
       "2   hybrid   54.696673   75.303327    130"
      ]
     },
     "metadata": {},
     "output_type": "display_data"
    }
   ],
   "source": [
    "df_exp = df_obs.copy()\n",
    "sum_domestic = df_obs['domestic'].sum()\n",
    "sum_foreign = df_obs['foreign'].sum()\n",
    "sum_total = df_obs['total'].sum()\n",
    "domestic_ratio = sum_domestic / sum_total\n",
    "foreign_ratio = sum_foreign / sum_total\n",
    "print(\"domestic ratio = {}\".format(domestic_ratio))\n",
    "print(\"foreign_ratio = {}\".format(foreign_ratio))\n",
    "print(\"domestic gasolin ratio = {}\".format(domestic_ratio * (337/sum_total)))\n",
    "\n",
    "df_exp['domestic'] = df_obs['total'] * domestic_ratio\n",
    "df_exp['foreign'] = df_obs['total'] * foreign_ratio\n",
    "display(df_exp.head())\n"
   ]
  },
  {
   "cell_type": "code",
   "execution_count": 7,
   "metadata": {},
   "outputs": [
    {
     "name": "stdout",
     "output_type": "stream",
     "text": [
      "[146, 18, 51, 191, 26, 79]\n",
      "[141.79060665362036, 18.512720156555773, 54.69667318982387, 195.20939334637964, 25.487279843444227, 75.30332681017612]\n",
      "Power_divergenceResult(statistic=0.6715602421114458, pvalue=0.8798719914484467)\n"
     ]
    }
   ],
   "source": [
    "f_obs = list(df_obs['domestic'].values) + list(df_obs['foreign'].values)\n",
    "f_exp = list(df_exp['domestic'].values) + list(df_exp['foreign'].values)\n",
    "print(f_obs)\n",
    "print(f_exp)\n",
    "x2 = chisquare(f_obs, f_exp, ddof=2)\n",
    "print(x2)"
   ]
  },
  {
   "cell_type": "code",
   "execution_count": null,
   "metadata": {},
   "outputs": [],
   "source": []
  },
  {
   "cell_type": "markdown",
   "metadata": {},
   "source": [
    "## scipy.stats.chisquare\n",
    "\n",
    "Returns:\n",
    "- statistics: Thechi-squared test statistic. \n",
    "- pvalue: The p-value\n",
    "\n",
    "https://docs.scipy.org/doc/scipy/reference/generated/scipy.stats.chisquare.html"
   ]
  },
  {
   "cell_type": "code",
   "execution_count": null,
   "metadata": {},
   "outputs": [],
   "source": []
  }
 ],
 "metadata": {
  "kernelspec": {
   "display_name": "Python 3",
   "language": "python",
   "name": "python3"
  },
  "language_info": {
   "codemirror_mode": {
    "name": "ipython",
    "version": 3
   },
   "file_extension": ".py",
   "mimetype": "text/x-python",
   "name": "python",
   "nbconvert_exporter": "python",
   "pygments_lexer": "ipython3",
   "version": "3.7.4"
  },
  "toc": {
   "base_numbering": 1,
   "nav_menu": {},
   "number_sections": true,
   "sideBar": true,
   "skip_h1_title": false,
   "title_cell": "Table of Contents",
   "title_sidebar": "Contents",
   "toc_cell": false,
   "toc_position": {},
   "toc_section_display": true,
   "toc_window_display": false
  }
 },
 "nbformat": 4,
 "nbformat_minor": 2
}
